{
  "nbformat": 4,
  "nbformat_minor": 0,
  "metadata": {
    "colab": {
      "name": "Apache_Spark_DataFrames.ipynb",
      "provenance": [],
      "collapsed_sections": []
    },
    "kernelspec": {
      "name": "python3",
      "display_name": "Python 3"
    },
    "language_info": {
      "name": "python"
    }
  },
  "cells": [
    {
      "cell_type": "markdown",
      "metadata": {
        "id": "ymYoNMngEbN1"
      },
      "source": [
        "# <font color='#2F4F4F'>Apache Spark DataFrames Project</font>\n",
        "\n"
      ]
    },
    {
      "cell_type": "markdown",
      "metadata": {
        "id": "kLG2VTrnTvYL"
      },
      "source": [
        "## <font color='#2F4F4F'> 1. Business Understanding </font>"
      ]
    },
    {
      "cell_type": "markdown",
      "metadata": {
        "id": "XecOwPNorl2W"
      },
      "source": [
        "### a) Specifying the Problem Statement\n",
        "\n",
        "As a Data professional, you need to perform an analysis by answering questions about some stock market data on Safaricom from the years 2012-2017.\n",
        "\n"
      ]
    },
    {
      "cell_type": "markdown",
      "metadata": {
        "id": "KLbp0D96AKAg"
      },
      "source": [
        "### b) Data Importation and Exploration\n",
        "\n",
        "● Start a spark session and load the stock file while inferring the data types.\n",
        "\n",
        "● Determine the column names\n",
        "\n",
        "● Make observations about the schema.\n",
        "\n",
        "● Show the first 5 rows\n",
        "\n",
        "● Use the describe method to learn about the data frame"
      ]
    },
    {
      "cell_type": "markdown",
      "metadata": {
        "id": "J4wfHZwQrs-t"
      },
      "source": [
        "### c) Data Preparation\n",
        "\n",
        "● Format all the data to 2 decimal places i.e. format_number()\n",
        "\n",
        "● Create a new data frame with a column called HV Ratio that is the ratio of the High Price versus volume of stock traded for a day"
      ]
    },
    {
      "cell_type": "markdown",
      "metadata": {
        "id": "a9BPYqunry97"
      },
      "source": [
        "### d) Data Analysis\n",
        "\n",
        "● What day had the Peak High in Price?\n",
        "\n",
        "● What is the mean of the Close column?\n",
        "\n",
        "● What is the max and min of the Volume column?\n",
        "\n",
        "● How many days was the Close lower than 60 dollars?\n",
        "\n",
        "● What percentage of the time was the High greater than 80 dollars?\n",
        "\n",
        "● What is the Pearson correlation between High and Volume?\n",
        "\n",
        "● What is the max High per year?\n",
        "\n",
        "● What is the average Close for each Calendar Month?"
      ]
    },
    {
      "cell_type": "markdown",
      "metadata": {
        "id": "n8tP5QFQEcy2"
      },
      "source": [
        "## <font color='#2F4F4F'> 2. Data Importation and Exploration</font>"
      ]
    },
    {
      "cell_type": "code",
      "source": [
        "# Installing pyspark\n",
        "\n",
        "!pip install pyspark"
      ],
      "metadata": {
        "colab": {
          "base_uri": "https://localhost:8080/"
        },
        "id": "ZWeFp0XAAtNf",
        "outputId": "44baf9b2-dd81-4f19-8231-fc72c9534296"
      },
      "execution_count": 1,
      "outputs": [
        {
          "output_type": "stream",
          "name": "stdout",
          "text": [
            "Collecting pyspark\n",
            "  Downloading pyspark-3.2.1.tar.gz (281.4 MB)\n",
            "\u001b[K     |████████████████████████████████| 281.4 MB 33 kB/s \n",
            "\u001b[?25hCollecting py4j==0.10.9.3\n",
            "  Downloading py4j-0.10.9.3-py2.py3-none-any.whl (198 kB)\n",
            "\u001b[K     |████████████████████████████████| 198 kB 53.3 MB/s \n",
            "\u001b[?25hBuilding wheels for collected packages: pyspark\n",
            "  Building wheel for pyspark (setup.py) ... \u001b[?25l\u001b[?25hdone\n",
            "  Created wheel for pyspark: filename=pyspark-3.2.1-py2.py3-none-any.whl size=281853642 sha256=9f1635e4312eababd2a8c856a2e9dc5446848b44e3888923ca2505f2b14d3ed2\n",
            "  Stored in directory: /root/.cache/pip/wheels/9f/f5/07/7cd8017084dce4e93e84e92efd1e1d5334db05f2e83bcef74f\n",
            "Successfully built pyspark\n",
            "Installing collected packages: py4j, pyspark\n",
            "Successfully installed py4j-0.10.9.3 pyspark-3.2.1\n"
          ]
        }
      ]
    },
    {
      "cell_type": "code",
      "source": [
        "#Run a local spark session\n",
        "\n",
        "from pyspark.sql import SparkSession\n",
        "spark = SparkSession.builder.master(\"local[*]\").getOrCreate()\n",
        "sc = spark.sparkContext\n",
        "\n",
        "from pyspark.sql import SQLContext\n",
        "sqlCtx = SQLContext(sc)"
      ],
      "metadata": {
        "colab": {
          "base_uri": "https://localhost:8080/"
        },
        "id": "fg9jVA2DAtZj",
        "outputId": "1394ec3d-da1b-425a-9545-3d2cb2ac95cf"
      },
      "execution_count": 2,
      "outputs": [
        {
          "output_type": "stream",
          "name": "stderr",
          "text": [
            "/usr/local/lib/python3.7/dist-packages/pyspark/sql/context.py:79: FutureWarning: Deprecated in 3.0.0. Use SparkSession.builder.getOrCreate() instead.\n",
            "  FutureWarning\n"
          ]
        }
      ]
    },
    {
      "cell_type": "code",
      "source": [
        "#read csv and display schema to determine the column names\n",
        "df = spark.read.csv(\"saf_stock.csv\", header=True)\n",
        "print(df.columns)\n",
        "df.printSchema()"
      ],
      "metadata": {
        "colab": {
          "base_uri": "https://localhost:8080/"
        },
        "id": "P1vEM4iyAtfT",
        "outputId": "37a9f3f8-3d23-4e6f-e059-0ef7eb80264d"
      },
      "execution_count": 6,
      "outputs": [
        {
          "output_type": "stream",
          "name": "stdout",
          "text": [
            "['Date', 'Open', 'High', 'Low', 'Close', 'Volume', 'Adj Close']\n",
            "root\n",
            " |-- Date: string (nullable = true)\n",
            " |-- Open: string (nullable = true)\n",
            " |-- High: string (nullable = true)\n",
            " |-- Low: string (nullable = true)\n",
            " |-- Close: string (nullable = true)\n",
            " |-- Volume: string (nullable = true)\n",
            " |-- Adj Close: string (nullable = true)\n",
            "\n"
          ]
        }
      ]
    },
    {
      "cell_type": "markdown",
      "metadata": {
        "id": "ZA2cp-dIMgki"
      },
      "source": [
        "The data has 7 columns, each of type String and nullable.\n",
        "\n",
        " "
      ]
    },
    {
      "cell_type": "code",
      "source": [
        "#show first 5 rows\n",
        "\n",
        "df.show(5)"
      ],
      "metadata": {
        "colab": {
          "base_uri": "https://localhost:8080/"
        },
        "id": "mEf3HhFnAtiW",
        "outputId": "a9f7bf35-8558-48ef-bb6d-2657d3590542"
      },
      "execution_count": 7,
      "outputs": [
        {
          "output_type": "stream",
          "name": "stdout",
          "text": [
            "+----------+------------------+---------+---------+------------------+--------+------------------+\n",
            "|      Date|              Open|     High|      Low|             Close|  Volume|         Adj Close|\n",
            "+----------+------------------+---------+---------+------------------+--------+------------------+\n",
            "|2012-01-03|         59.970001|61.060001|59.869999|         60.330002|12668800|52.619234999999996|\n",
            "|2012-01-04|60.209998999999996|60.349998|59.470001|59.709998999999996| 9593300|         52.078475|\n",
            "|2012-01-05|         59.349998|59.619999|58.369999|         59.419998|12768200|         51.825539|\n",
            "|2012-01-06|         59.419998|59.450001|58.869999|              59.0| 8069400|          51.45922|\n",
            "|2012-01-09|         59.029999|59.549999|58.919998|             59.18| 6679300|51.616215000000004|\n",
            "+----------+------------------+---------+---------+------------------+--------+------------------+\n",
            "only showing top 5 rows\n",
            "\n"
          ]
        }
      ]
    },
    {
      "cell_type": "code",
      "source": [
        "#Use the describe method to learn about the data frame\n",
        "\n",
        "df.describe().show()"
      ],
      "metadata": {
        "colab": {
          "base_uri": "https://localhost:8080/"
        },
        "id": "qr2X7T3QDSOM",
        "outputId": "05f968b5-e7b5-4610-b2b7-a4bad7ef32b7"
      },
      "execution_count": 8,
      "outputs": [
        {
          "output_type": "stream",
          "name": "stdout",
          "text": [
            "+-------+----------+------------------+-----------------+-----------------+-----------------+-----------------+-----------------+\n",
            "|summary|      Date|              Open|             High|              Low|            Close|           Volume|        Adj Close|\n",
            "+-------+----------+------------------+-----------------+-----------------+-----------------+-----------------+-----------------+\n",
            "|  count|      1258|              1258|             1258|             1258|             1258|             1258|             1258|\n",
            "|   mean|      null| 72.35785375357709|72.83938807631165| 71.9186009594594|72.38844998012726|8222093.481717011|67.23883848728146|\n",
            "| stddev|      null|  6.76809024470826|6.768186808159218|6.744075756255496|6.756859163732991|  4519780.8431556|6.722609449996857|\n",
            "|    min|2012-01-03|56.389998999999996|        57.060001|        56.299999|        56.419998|         10010500|        50.363689|\n",
            "|    max|2016-12-30|         90.800003|        90.970001|            89.25|        90.470001|          9994400|84.91421600000001|\n",
            "+-------+----------+------------------+-----------------+-----------------+-----------------+-----------------+-----------------+\n",
            "\n"
          ]
        }
      ]
    },
    {
      "cell_type": "markdown",
      "metadata": {
        "id": "fdXW6uZQDY65"
      },
      "source": [
        "## <font color='#2F4F4F'> 3. Data Preparation</font>"
      ]
    },
    {
      "cell_type": "code",
      "source": [
        "#Format all the data to 2 decimal places i.e. format_number()\n",
        "\n",
        "from pyspark.sql.functions import format_number\n",
        "\n",
        "df_formatted=df.select(df['Date'],\n",
        "              format_number(df['Open'].cast('float'),2).alias('Open'),\n",
        "              format_number(df['High'].cast('float'), 2).alias('High'),\n",
        "              format_number(df['Low'].cast('float'), 2).alias('Low'),\n",
        "              format_number(df['Close'].cast('float'), 2).alias('Close'),\n",
        "              df['Volume'].cast('int').alias('Volume'),\n",
        "              format_number(df['Adj Close'].cast('float'), 2).alias('Adj Close')\n",
        "              )\n",
        "\n",
        "\n",
        "from pyspark.sql import functions as F\n",
        "\n",
        "df_formatted.show()"
      ],
      "metadata": {
        "colab": {
          "base_uri": "https://localhost:8080/"
        },
        "id": "pYI6XX2BDSah",
        "outputId": "957d5458-b0e3-4680-818d-8743167a70d1"
      },
      "execution_count": 9,
      "outputs": [
        {
          "output_type": "stream",
          "name": "stdout",
          "text": [
            "+----------+-----+-----+-----+-----+--------+---------+\n",
            "|      Date| Open| High|  Low|Close|  Volume|Adj Close|\n",
            "+----------+-----+-----+-----+-----+--------+---------+\n",
            "|2012-01-03|59.97|61.06|59.87|60.33|12668800|    52.62|\n",
            "|2012-01-04|60.21|60.35|59.47|59.71| 9593300|    52.08|\n",
            "|2012-01-05|59.35|59.62|58.37|59.42|12768200|    51.83|\n",
            "|2012-01-06|59.42|59.45|58.87|59.00| 8069400|    51.46|\n",
            "|2012-01-09|59.03|59.55|58.92|59.18| 6679300|    51.62|\n",
            "|2012-01-10|59.43|59.71|58.98|59.04| 6907300|    51.49|\n",
            "|2012-01-11|59.06|59.53|59.04|59.40| 6365600|    51.81|\n",
            "|2012-01-12|59.79|60.00|59.40|59.50| 7236400|    51.90|\n",
            "|2012-01-13|59.18|59.61|59.01|59.54| 7729300|    51.93|\n",
            "|2012-01-17|59.87|60.11|59.52|59.85| 8500000|    52.20|\n",
            "|2012-01-18|59.79|60.03|59.65|60.01| 5911400|    52.34|\n",
            "|2012-01-19|59.93|60.73|59.75|60.61| 9234600|    52.86|\n",
            "|2012-01-20|60.75|61.25|60.67|61.01|10378800|    53.21|\n",
            "|2012-01-23|60.81|60.98|60.51|60.91| 7134100|    53.13|\n",
            "|2012-01-24|60.75|62.00|60.75|61.39| 7362800|    53.54|\n",
            "|2012-01-25|61.18|61.61|61.04|61.47| 5915800|    53.61|\n",
            "|2012-01-26|61.80|61.84|60.77|60.97| 7436200|    53.18|\n",
            "|2012-01-27|60.86|61.12|60.54|60.71| 6287300|    52.95|\n",
            "|2012-01-30|60.47|61.32|60.35|61.30| 7636900|    53.47|\n",
            "|2012-01-31|61.53|61.57|60.58|61.36| 9761500|    53.52|\n",
            "+----------+-----+-----+-----+-----+--------+---------+\n",
            "only showing top 20 rows\n",
            "\n"
          ]
        }
      ]
    },
    {
      "cell_type": "code",
      "source": [
        "#Create a new data frame with a column called HV Ratio that is the ratio of the High Price versus volume of stock traded for a day\n",
        "\n",
        "df_new = df_formatted.withColumn(\"HV Ratio\",df_formatted['High']/df_formatted['Volume'])\n",
        "print(df_new.show())"
      ],
      "metadata": {
        "colab": {
          "base_uri": "https://localhost:8080/"
        },
        "id": "ZX7gXwHqDShN",
        "outputId": "dbaa1402-b56f-4e6f-ef4e-2555fef57048"
      },
      "execution_count": 10,
      "outputs": [
        {
          "output_type": "stream",
          "name": "stdout",
          "text": [
            "+----------+-----+-----+-----+-----+--------+---------+--------------------+\n",
            "|      Date| Open| High|  Low|Close|  Volume|Adj Close|            HV Ratio|\n",
            "+----------+-----+-----+-----+-----+--------+---------+--------------------+\n",
            "|2012-01-03|59.97|61.06|59.87|60.33|12668800|    52.62|4.819714574387472E-6|\n",
            "|2012-01-04|60.21|60.35|59.47|59.71| 9593300|    52.08|6.290848821573389...|\n",
            "|2012-01-05|59.35|59.62|58.37|59.42|12768200|    51.83|4.669413073103491E-6|\n",
            "|2012-01-06|59.42|59.45|58.87|59.00| 8069400|    51.46|7.367338339901356E-6|\n",
            "|2012-01-09|59.03|59.55|58.92|59.18| 6679300|    51.62|8.915604928660188E-6|\n",
            "|2012-01-10|59.43|59.71|58.98|59.04| 6907300|    51.49|8.644477581688938E-6|\n",
            "|2012-01-11|59.06|59.53|59.04|59.40| 6365600|    51.81| 9.35182857861003E-6|\n",
            "|2012-01-12|59.79|60.00|59.40|59.50| 7236400|    51.90| 8.29141562102703E-6|\n",
            "|2012-01-13|59.18|59.61|59.01|59.54| 7729300|    51.93|7.712211972623653E-6|\n",
            "|2012-01-17|59.87|60.11|59.52|59.85| 8500000|    52.20|7.071764705882352...|\n",
            "|2012-01-18|59.79|60.03|59.65|60.01| 5911400|    52.34|1.015495483303447...|\n",
            "|2012-01-19|59.93|60.73|59.75|60.61| 9234600|    52.86|6.576354146362592...|\n",
            "|2012-01-20|60.75|61.25|60.67|61.01|10378800|    53.21| 5.90145296180676E-6|\n",
            "|2012-01-23|60.81|60.98|60.51|60.91| 7134100|    53.13|8.547679455011844E-6|\n",
            "|2012-01-24|60.75|62.00|60.75|61.39| 7362800|    53.54|8.420709512685392E-6|\n",
            "|2012-01-25|61.18|61.61|61.04|61.47| 5915800|    53.61|1.041448324825044...|\n",
            "|2012-01-26|61.80|61.84|60.77|60.97| 7436200|    53.18|8.316075414862431E-6|\n",
            "|2012-01-27|60.86|61.12|60.54|60.71| 6287300|    52.95|9.721183974042911E-6|\n",
            "|2012-01-30|60.47|61.32|60.35|61.30| 7636900|    53.47|8.029436027707578E-6|\n",
            "|2012-01-31|61.53|61.57|60.58|61.36| 9761500|    53.52|6.307432259386365E-6|\n",
            "+----------+-----+-----+-----+-----+--------+---------+--------------------+\n",
            "only showing top 20 rows\n",
            "\n",
            "None\n"
          ]
        }
      ]
    },
    {
      "cell_type": "markdown",
      "metadata": {
        "id": "aZ0E8RvDDpfQ"
      },
      "source": [
        "## <font color='#2F4F4F'> 4. Data Analysis</font>\n",
        "\n",
        "Answering the questions in the problem statement."
      ]
    },
    {
      "cell_type": "code",
      "source": [
        "#What day had the Peak High in Price?\n",
        "\n",
        "print(df_new.orderBy(df_new['High'].desc()).head(1)[0][0])"
      ],
      "metadata": {
        "colab": {
          "base_uri": "https://localhost:8080/"
        },
        "id": "ClKQaO45DSm9",
        "outputId": "3aa0663f-49f1-4e8b-fd31-32133ab3a580"
      },
      "execution_count": 11,
      "outputs": [
        {
          "output_type": "stream",
          "name": "stdout",
          "text": [
            "2015-01-13\n"
          ]
        }
      ]
    },
    {
      "cell_type": "code",
      "source": [
        "#What is the mean of the Close column?\n",
        "\n",
        "from pyspark.sql.functions import mean, max, min\n",
        "\n",
        "print(df_new.select(mean('Close')).show())"
      ],
      "metadata": {
        "colab": {
          "base_uri": "https://localhost:8080/"
        },
        "id": "9ll0eSRTDwQk",
        "outputId": "3f1c4163-21a7-43e8-dd3f-7ba4dbd2f533"
      },
      "execution_count": 12,
      "outputs": [
        {
          "output_type": "stream",
          "name": "stdout",
          "text": [
            "+-----------------+\n",
            "|       avg(Close)|\n",
            "+-----------------+\n",
            "|72.38844992050863|\n",
            "+-----------------+\n",
            "\n",
            "None\n"
          ]
        }
      ]
    },
    {
      "cell_type": "code",
      "source": [
        "#What is the max and min of the Volume column?\n",
        "\n",
        "print(df_new.select(max('Volume'),min('Volume')).show())"
      ],
      "metadata": {
        "colab": {
          "base_uri": "https://localhost:8080/"
        },
        "id": "PAA3Crn7DwaK",
        "outputId": "1c33d1dd-ddd4-4654-f090-da2f13a4f3bf"
      },
      "execution_count": 13,
      "outputs": [
        {
          "output_type": "stream",
          "name": "stdout",
          "text": [
            "+-----------+-----------+\n",
            "|max(Volume)|min(Volume)|\n",
            "+-----------+-----------+\n",
            "|   80898100|    2094900|\n",
            "+-----------+-----------+\n",
            "\n",
            "None\n"
          ]
        }
      ]
    },
    {
      "cell_type": "code",
      "source": [
        "#How many days was the Close lower than 60 dollars?\n",
        "\n",
        "print(df_new.filter(df_new['Close'] < 60).count())"
      ],
      "metadata": {
        "colab": {
          "base_uri": "https://localhost:8080/"
        },
        "id": "GQmLgwaDDwiq",
        "outputId": "307feca1-7472-48c0-90af-9227a9b23e8e"
      },
      "execution_count": 14,
      "outputs": [
        {
          "output_type": "stream",
          "name": "stdout",
          "text": [
            "81\n"
          ]
        }
      ]
    },
    {
      "cell_type": "code",
      "source": [
        "#What percentage of the time was the High greater than 80 dollars?\n",
        "\n",
        "print((df_new.filter(df_new['High']>80).count()/df.count()) * 100)"
      ],
      "metadata": {
        "colab": {
          "base_uri": "https://localhost:8080/"
        },
        "id": "D9B6mr_hD2-R",
        "outputId": "9d2cc56d-af41-4d66-dc03-08ec42d5877a"
      },
      "execution_count": 15,
      "outputs": [
        {
          "output_type": "stream",
          "name": "stdout",
          "text": [
            "8.426073131955485\n"
          ]
        }
      ]
    },
    {
      "cell_type": "code",
      "source": [
        "#What is the max High per year?\n",
        "\n",
        "from pyspark.sql.functions import year\n",
        "\n",
        "df_new_2=df_new.select(df_new['Date'],\n",
        "              df_new['High'].cast('float').alias('High'),\n",
        "              df_new['Close'].cast('float').alias('Close')\n",
        "              )\n",
        "\n",
        "df_year = df_new_2.withColumn(\"Year\",year(df_new_2['Date']))\n",
        "maxim= df_year.groupBy('Year').max()\n",
        "print(maxim.select('Year','max(High)').orderBy('Year').show())"
      ],
      "metadata": {
        "colab": {
          "base_uri": "https://localhost:8080/"
        },
        "id": "T3hKADDAD3HS",
        "outputId": "ac7d6648-6fc6-402d-9294-e97c1af2ea24"
      },
      "execution_count": 16,
      "outputs": [
        {
          "output_type": "stream",
          "name": "stdout",
          "text": [
            "+----+---------+\n",
            "|Year|max(High)|\n",
            "+----+---------+\n",
            "|2012|     77.6|\n",
            "|2013|    81.37|\n",
            "|2014|    88.09|\n",
            "|2015|    90.97|\n",
            "|2016|    75.19|\n",
            "+----+---------+\n",
            "\n",
            "None\n"
          ]
        }
      ]
    },
    {
      "cell_type": "code",
      "source": [
        "#What is the average Close for each Calendar Month?\n",
        "\n",
        "from pyspark.sql.functions import month\n",
        "\n",
        "df_month = df_new_2.withColumn('Month',month('Date'))\n",
        "avg_month = df_month.select(['Month','Close']).groupBy('Month').mean()\n",
        "print(avg_month.select('Month','avg(Close)').orderBy('Month').show())"
      ],
      "metadata": {
        "colab": {
          "base_uri": "https://localhost:8080/"
        },
        "id": "AnYjeflMD3MO",
        "outputId": "2f6f8b04-939b-4d07-92d2-bdd08ed53962"
      },
      "execution_count": 17,
      "outputs": [
        {
          "output_type": "stream",
          "name": "stdout",
          "text": [
            "+-----+-----------------+\n",
            "|Month|       avg(Close)|\n",
            "+-----+-----------------+\n",
            "|    1| 71.4480196131338|\n",
            "|    2|71.30680438169499|\n",
            "|    3|71.77794376266337|\n",
            "|    4|72.97361900692894|\n",
            "|    5|72.30971685445533|\n",
            "|    6| 72.4953774506191|\n",
            "|    7|74.43971944078106|\n",
            "|    8| 73.0298185521906|\n",
            "|    9|72.18411782208611|\n",
            "|   10| 71.5785454489968|\n",
            "|   11|72.11108927207418|\n",
            "|   12|72.84792482628012|\n",
            "+-----+-----------------+\n",
            "\n",
            "None\n"
          ]
        }
      ]
    }
  ]
}